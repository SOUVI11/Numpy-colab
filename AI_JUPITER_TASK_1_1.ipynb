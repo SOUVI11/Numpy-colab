{
  "cells": [
    {
      "cell_type": "markdown",
      "metadata": {
        "id": "view-in-github",
        "colab_type": "text"
      },
      "source": [
        "<a href=\"https://colab.research.google.com/github/SOUVI11/Numpy-colab/blob/main/AI_JUPITER_TASK_1_1.ipynb\" target=\"_parent\"><img src=\"https://colab.research.google.com/assets/colab-badge.svg\" alt=\"Open In Colab\"/></a>"
      ]
    },
    {
      "cell_type": "code",
      "execution_count": null,
      "id": "d4eb1378",
      "metadata": {
        "id": "d4eb1378"
      },
      "outputs": [],
      "source": [
        "###importing\n",
        "import numpy as np"
      ]
    },
    {
      "cell_type": "code",
      "execution_count": null,
      "id": "0c191b2f",
      "metadata": {
        "id": "0c191b2f",
        "outputId": "d4edefcf-6fed-43da-fa1d-22f07d55cd1f"
      },
      "outputs": [
        {
          "name": "stdout",
          "output_type": "stream",
          "text": [
            "[1, 9, 8, 3]\n"
          ]
        }
      ],
      "source": [
        "###creating array\n",
        "lst=[1,9,8,3]\n",
        "print(lst)"
      ]
    },
    {
      "cell_type": "code",
      "execution_count": null,
      "id": "13d26977",
      "metadata": {
        "id": "13d26977",
        "outputId": "312dc7cf-29d8-40f8-88af-6107b4edc2c2"
      },
      "outputs": [
        {
          "data": {
            "text/plain": [
              "array([1, 9, 8, 3])"
            ]
          },
          "execution_count": 3,
          "metadata": {},
          "output_type": "execute_result"
        }
      ],
      "source": [
        "###printing array\n",
        "numpyarray=np.array(lst)\n",
        "numpyarray"
      ]
    },
    {
      "cell_type": "code",
      "execution_count": null,
      "id": "41e19f9b",
      "metadata": {
        "id": "41e19f9b",
        "outputId": "ac75209e-3614-4227-fb97-f578caa1ee4a"
      },
      "outputs": [
        {
          "name": "stdout",
          "output_type": "stream",
          "text": [
            "[1 9 8 3]\n"
          ]
        }
      ],
      "source": [
        "###declaring and printing array\n",
        "a=np.array([1,9,8,3])\n",
        "print(a)"
      ]
    },
    {
      "cell_type": "code",
      "execution_count": null,
      "id": "d0e6c39b",
      "metadata": {
        "id": "d0e6c39b",
        "outputId": "4b8ec037-61f4-4c71-8d6f-0d140529a2d0"
      },
      "outputs": [
        {
          "name": "stdout",
          "output_type": "stream",
          "text": [
            "[11 19 18 13]\n"
          ]
        }
      ],
      "source": [
        "###addition on an array\n",
        "x=numpyarray+10\n",
        "print(x)"
      ]
    },
    {
      "cell_type": "code",
      "execution_count": null,
      "id": "912b6c0d",
      "metadata": {
        "id": "912b6c0d",
        "outputId": "792ecf6c-5e98-4228-f2dd-938e6a6cae2f"
      },
      "outputs": [
        {
          "name": "stdout",
          "output_type": "stream",
          "text": [
            "(3,)\n",
            "int32\n"
          ]
        }
      ],
      "source": [
        "###shape and type of an array\n",
        "a=np.array([1,2,3])\n",
        "print(a.shape)\n",
        "print(a.dtype)"
      ]
    },
    {
      "cell_type": "code",
      "execution_count": null,
      "id": "3d780abf",
      "metadata": {
        "id": "3d780abf",
        "outputId": "b0630aac-c5c3-4fe8-8bae-487b0e20512f"
      },
      "outputs": [
        {
          "name": "stdout",
          "output_type": "stream",
          "text": [
            "float64\n"
          ]
        }
      ],
      "source": [
        "###type of an float array\n",
        "b=np.array([1.1,0.2,3.2])\n",
        "print(b.dtype)"
      ]
    },
    {
      "cell_type": "code",
      "execution_count": null,
      "id": "8d520533",
      "metadata": {
        "id": "8d520533",
        "outputId": "8b2915c2-67c6-4a5b-a3b1-92a4fad6ec29"
      },
      "outputs": [
        {
          "name": "stdout",
          "output_type": "stream",
          "text": [
            "[[1 2 3]\n",
            " [4 5 6]]\n"
          ]
        }
      ],
      "source": [
        "###2 dimension array\n",
        "c=np.array([(1,2,3),\n",
        "              (4,5,6)])\n",
        "print(c)"
      ]
    },
    {
      "cell_type": "code",
      "execution_count": null,
      "id": "becb7438",
      "metadata": {
        "id": "becb7438",
        "outputId": "b4165b4d-942e-4f9f-9cd0-66e2b6664a55"
      },
      "outputs": [
        {
          "name": "stdout",
          "output_type": "stream",
          "text": [
            "(2, 2, 3)\n",
            "[[[ 1  2  3]\n",
            "  [ 4  5  6]]\n",
            "\n",
            " [[ 7  8  9]\n",
            "  [10 11 12]]]\n"
          ]
        }
      ],
      "source": [
        "###3 dimension\n",
        "d=np.array([\n",
        "    [[1,2,3],\n",
        "         [4,5,6]],\n",
        "    [[7,8,9],\n",
        "        [10,11,12]]\n",
        "])\n",
        "print(d.shape)\n",
        "print(d)"
      ]
    },
    {
      "cell_type": "code",
      "execution_count": null,
      "id": "0758f812",
      "metadata": {
        "id": "0758f812",
        "outputId": "770bc944-6bd0-4730-cbca-467dc9574566"
      },
      "outputs": [
        {
          "name": "stdout",
          "output_type": "stream",
          "text": [
            "[[0 0]\n",
            " [0 0]]\n"
          ]
        }
      ],
      "source": [
        "###zero matrix\n",
        "a=np.zeros((2,2), dtype=np.int16)\n",
        "print(a)"
      ]
    },
    {
      "cell_type": "code",
      "execution_count": null,
      "id": "0a0bdae3",
      "metadata": {
        "id": "0a0bdae3",
        "outputId": "0a5e5e36-cf5d-4300-8e90-5f426c736077"
      },
      "outputs": [
        {
          "name": "stdout",
          "output_type": "stream",
          "text": [
            "(1, 2, 3)\n",
            "[[[1 1 1]\n",
            "  [1 1 1]]]\n"
          ]
        }
      ],
      "source": [
        "### matrix with full one\n",
        "a=np.ones((1,2,3), dtype=np.int16)\n",
        "print(a.shape)\n",
        "print(a)"
      ]
    },
    {
      "cell_type": "code",
      "execution_count": null,
      "id": "ea75e1d9",
      "metadata": {
        "id": "ea75e1d9",
        "outputId": "acd4e966-75ac-4b24-d566-d1e18f57caab"
      },
      "outputs": [
        {
          "name": "stdout",
          "output_type": "stream",
          "text": [
            "[[1 2 3]\n",
            " [4 5 6]]\n"
          ]
        },
        {
          "data": {
            "text/plain": [
              "array([[1, 2],\n",
              "       [3, 4],\n",
              "       [5, 6]])"
            ]
          },
          "execution_count": 12,
          "metadata": {},
          "output_type": "execute_result"
        }
      ],
      "source": [
        "###reshaping of an array\n",
        "a=np.array([(1,2,3), (4,5,6)])\n",
        "print(a)\n",
        "a.reshape(3,2)"
      ]
    },
    {
      "cell_type": "code",
      "execution_count": null,
      "id": "45ce28f3",
      "metadata": {
        "id": "45ce28f3",
        "outputId": "3983fe79-1187-497c-94a5-58da114790cc"
      },
      "outputs": [
        {
          "data": {
            "text/plain": [
              "array([1, 2, 3, 4, 5, 6])"
            ]
          },
          "execution_count": 13,
          "metadata": {},
          "output_type": "execute_result"
        }
      ],
      "source": [
        "###flattening an array\n",
        "a.flatten()"
      ]
    },
    {
      "cell_type": "code",
      "execution_count": null,
      "id": "adcf4403",
      "metadata": {
        "id": "adcf4403",
        "outputId": "de68ddbf-b853-472c-ccd2-8e5066e7f577"
      },
      "outputs": [
        {
          "name": "stdout",
          "output_type": "stream",
          "text": [
            "Horizontal Append -  [1 2 3 4 5 6]\n"
          ]
        }
      ],
      "source": [
        "###appending horizontally in an array\n",
        "a=np.array([1,2,3])\n",
        "b=np.array([4,5,6])\n",
        "print('Horizontal Append - ',np.hstack((a,b)))"
      ]
    },
    {
      "cell_type": "code",
      "execution_count": null,
      "id": "f5897eaf",
      "metadata": {
        "id": "f5897eaf",
        "outputId": "acb0970e-db41-45a6-e088-e409c83d4e35"
      },
      "outputs": [
        {
          "name": "stdout",
          "output_type": "stream",
          "text": [
            "Vertical Append -  [[1 2 3]\n",
            " [4 5 6]]\n"
          ]
        }
      ],
      "source": [
        "###appending vertically in an array\n",
        "print('Vertical Append - ',np.vstack((a,b)))"
      ]
    },
    {
      "cell_type": "code",
      "execution_count": null,
      "id": "06d061ba",
      "metadata": {
        "id": "06d061ba",
        "outputId": "1aaaace1-42ee-4d31-b5bc-6754fb03899f"
      },
      "outputs": [
        {
          "name": "stdout",
          "output_type": "stream",
          "text": [
            "[4.62770353 4.7211014  5.10900056 4.6330204  4.79869787 5.09694206\n",
            " 5.09909865 4.60495671 4.86948054 5.14739744]\n"
          ]
        }
      ],
      "source": [
        "###random number\n",
        "rarr=np.random.normal(5, 0.5, 10)\n",
        "print(rarr)"
      ]
    },
    {
      "cell_type": "code",
      "execution_count": null,
      "id": "d119fec4",
      "metadata": {
        "id": "d119fec4",
        "outputId": "de02927f-f956-470a-e01c-982d8a92e8ed"
      },
      "outputs": [
        {
          "name": "stdout",
          "output_type": "stream",
          "text": [
            "[[1. 1. 1. 1.]\n",
            " [1. 1. 1. 1.]\n",
            " [1. 1. 1. 1.]\n",
            " [1. 1. 1. 1.]]\n"
          ]
        }
      ],
      "source": [
        "### matrix with full one\n",
        "m=np.matrix(np.ones((4,4)))\n",
        "print(m)"
      ]
    },
    {
      "cell_type": "code",
      "execution_count": null,
      "id": "8c3e3516",
      "metadata": {
        "id": "8c3e3516",
        "outputId": "65e73128-726a-41bd-f6ee-0d26989f7421"
      },
      "outputs": [
        {
          "name": "stdout",
          "output_type": "stream",
          "text": [
            "[[1. 1. 1. 1.]\n",
            " [1. 1. 1. 1.]\n",
            " [2. 2. 2. 2.]\n",
            " [1. 1. 1. 1.]]\n"
          ]
        }
      ],
      "source": [
        "###converting an input to array\n",
        "np.asarray(m)[2]=2\n",
        "print(m)"
      ]
    },
    {
      "cell_type": "code",
      "execution_count": null,
      "id": "16247695",
      "metadata": {
        "id": "16247695",
        "outputId": "71f6b58c-3765-4242-e4cf-e2954ef8e82b"
      },
      "outputs": [
        {
          "data": {
            "text/plain": [
              "array([1, 2, 3, 4, 5, 6, 7, 8, 9])"
            ]
          },
          "execution_count": 19,
          "metadata": {},
          "output_type": "execute_result"
        }
      ],
      "source": [
        "###evenly spaced values within an interval\n",
        "np.arange(1, 10)"
      ]
    },
    {
      "cell_type": "code",
      "execution_count": null,
      "id": "087b0475",
      "metadata": {
        "id": "087b0475",
        "outputId": "2d525a2a-a48d-4c55-f1d1-4ea0355eade8"
      },
      "outputs": [
        {
          "data": {
            "text/plain": [
              "array([1, 6])"
            ]
          },
          "execution_count": 20,
          "metadata": {},
          "output_type": "execute_result"
        }
      ],
      "source": [
        "###evenly spaced values within an interval\n",
        "np.arange(1, 10, 5)"
      ]
    },
    {
      "cell_type": "code",
      "execution_count": null,
      "id": "22afd9ae",
      "metadata": {
        "id": "22afd9ae",
        "outputId": "247c3388-8f0e-4c4c-cdf1-31ea4abc8e68"
      },
      "outputs": [
        {
          "data": {
            "text/plain": [
              "array([ 1.        ,  1.47368421,  1.94736842,  2.42105263,  2.89473684,\n",
              "        3.36842105,  3.84210526,  4.31578947,  4.78947368,  5.26315789,\n",
              "        5.73684211,  6.21052632,  6.68421053,  7.15789474,  7.63157895,\n",
              "        8.10526316,  8.57894737,  9.05263158,  9.52631579, 10.        ])"
            ]
          },
          "execution_count": 21,
          "metadata": {},
          "output_type": "execute_result"
        }
      ],
      "source": [
        "###evenly spaced values\n",
        "np.linspace(1.0,10.0,num=20)"
      ]
    },
    {
      "cell_type": "code",
      "execution_count": null,
      "id": "7c00f65a",
      "metadata": {
        "id": "7c00f65a",
        "outputId": "5f522385-1831-4ec9-b8bc-412d77e4f56b"
      },
      "outputs": [
        {
          "data": {
            "text/plain": [
              "array([1. , 1.8, 2.6, 3.4, 4.2])"
            ]
          },
          "execution_count": 22,
          "metadata": {},
          "output_type": "execute_result"
        }
      ],
      "source": [
        "###evenly spaced values does not include stopvalue\n",
        "np.linspace(1.0,5.0,num=5,endpoint=False)"
      ]
    },
    {
      "cell_type": "code",
      "execution_count": null,
      "id": "58d5ab3f",
      "metadata": {
        "id": "58d5ab3f",
        "outputId": "6223587d-7607-4144-ce63-d351a90f2e42"
      },
      "outputs": [
        {
          "data": {
            "text/plain": [
              "array([ 1000.        ,  2154.43469003,  4641.58883361, 10000.        ])"
            ]
          },
          "execution_count": 23,
          "metadata": {},
          "output_type": "execute_result"
        }
      ],
      "source": [
        "###even spaced numbers on log scale\n",
        "np.logspace(3.0,4.0,num=4)"
      ]
    },
    {
      "cell_type": "code",
      "execution_count": null,
      "id": "0a75c835",
      "metadata": {
        "id": "0a75c835",
        "outputId": "0fb9065b-478d-439d-c4f0-9327aaf9f679"
      },
      "outputs": [
        {
          "data": {
            "text/plain": [
              "16"
            ]
          },
          "execution_count": 24,
          "metadata": {},
          "output_type": "execute_result"
        }
      ],
      "source": [
        "### item size\n",
        "arr=np.array([1,2,3], dtype=np.complex128)\n",
        "arr.itemsize"
      ]
    },
    {
      "cell_type": "code",
      "execution_count": null,
      "id": "2a0ec360",
      "metadata": {
        "id": "2a0ec360",
        "outputId": "a6cf946d-3a11-4702-827f-ceff8e703f32"
      },
      "outputs": [
        {
          "name": "stdout",
          "output_type": "stream",
          "text": [
            "[[1 2 3]\n",
            " [4 5 6]]\n"
          ]
        }
      ],
      "source": [
        "arr=np.array([(1,2,3),(4,5,6)])\n",
        "print(arr)"
      ]
    },
    {
      "cell_type": "code",
      "execution_count": null,
      "id": "d7f063b7",
      "metadata": {
        "id": "d7f063b7",
        "outputId": "69a96c31-a6f9-4ca6-8c55-b224c6c432ee"
      },
      "outputs": [
        {
          "name": "stdout",
          "output_type": "stream",
          "text": [
            "First row: [1 2 3]\n",
            "Second row: [4 5 6]\n"
          ]
        }
      ],
      "source": [
        "### printing rows of an array\n",
        "print('First row:', arr[0])\n",
        "print('Second row:', arr[1])"
      ]
    },
    {
      "cell_type": "code",
      "execution_count": null,
      "id": "b95270e7",
      "metadata": {
        "id": "b95270e7",
        "outputId": "ed733c1d-1f3b-4448-e8e8-a3fa6f901d4b"
      },
      "outputs": [
        {
          "name": "stdout",
          "output_type": "stream",
          "text": [
            "Second column: [2 5]\n"
          ]
        }
      ],
      "source": [
        "### printing column of an array\n",
        "print('Second column:',arr[:,1])"
      ]
    },
    {
      "cell_type": "code",
      "execution_count": null,
      "id": "23ead4bd",
      "metadata": {
        "id": "23ead4bd",
        "outputId": "ef27bb92-74cb-4f98-90dc-048fef39d751"
      },
      "outputs": [
        {
          "name": "stdout",
          "output_type": "stream",
          "text": [
            "[4 5]\n"
          ]
        }
      ],
      "source": [
        "### printing specified section of a row of an array\n",
        "print(arr[1,:2])"
      ]
    },
    {
      "cell_type": "code",
      "execution_count": null,
      "id": "c57dd582",
      "metadata": {
        "id": "c57dd582",
        "outputId": "d1e82f18-ed91-4f10-ebc3-76fa7b4444a5"
      },
      "outputs": [
        {
          "name": "stdout",
          "output_type": "stream",
          "text": [
            "[2 5]\n"
          ]
        }
      ],
      "source": [
        "### printing specified section of a column of an array\n",
        "print(arr[:2,1])"
      ]
    },
    {
      "cell_type": "code",
      "execution_count": null,
      "id": "2ed36ac3",
      "metadata": {
        "id": "2ed36ac3",
        "outputId": "34b19b6b-21fd-4e25-a014-9fea8cb68bd1"
      },
      "outputs": [
        {
          "name": "stdout",
          "output_type": "stream",
          "text": [
            "[1.09769828 0.41644457 0.45188391 1.3100068  0.36837237 1.03391684\n",
            " 0.20740154 1.2304414  0.47840293 0.86182634]\n"
          ]
        }
      ],
      "source": [
        "normal_arr= np.random.normal(1,0.5,10)\n",
        "print(normal_arr)"
      ]
    },
    {
      "cell_type": "code",
      "execution_count": null,
      "id": "33dbfe91",
      "metadata": {
        "id": "33dbfe91",
        "outputId": "a2a5ab33-9bec-4238-d4f8-2272d457c46b"
      },
      "outputs": [
        {
          "name": "stdout",
          "output_type": "stream",
          "text": [
            "Minimum -  1\n",
            "Maximum -  6\n",
            "Mean -  3.5\n",
            "Median -  3.5\n",
            "Standard -  1.707825127659933\n"
          ]
        }
      ],
      "source": [
        "### printing minimum, maximum, mean, median, standard of an array\n",
        "print('Minimum - ',np.min(arr))\n",
        "print('Maximum - ',np.max(arr))\n",
        "print('Mean - ',np.mean(arr))\n",
        "print('Median - ',np.median(arr))\n",
        "print('Standard - ',np.std(arr))"
      ]
    },
    {
      "cell_type": "code",
      "execution_count": null,
      "id": "0bc264f2",
      "metadata": {
        "id": "0bc264f2",
        "outputId": "22349e54-b1fa-4520-cd41-dfe43c7aa766"
      },
      "outputs": [
        {
          "data": {
            "text/plain": [
              "14"
            ]
          },
          "execution_count": 32,
          "metadata": {},
          "output_type": "execute_result"
        }
      ],
      "source": [
        "### dot product of an array\n",
        "a=np.array([1,2])\n",
        "b=np.array([4,5])\n",
        "np.dot(a,b)"
      ]
    },
    {
      "cell_type": "code",
      "execution_count": null,
      "id": "4859144b",
      "metadata": {
        "id": "4859144b",
        "outputId": "9dfc97f5-2f95-48d5-b49c-184543c50a94"
      },
      "outputs": [
        {
          "data": {
            "text/plain": [
              "array([[19, 22],\n",
              "       [43, 50]])"
            ]
          },
          "execution_count": 33,
          "metadata": {},
          "output_type": "execute_result"
        }
      ],
      "source": [
        "### multiplication of two matix\n",
        "a=[[1,2],[3,4]] \n",
        "b=[[5,6],[7,8]] \n",
        "np.matmul(a,b)"
      ]
    },
    {
      "cell_type": "code",
      "execution_count": null,
      "id": "90c7cfb3",
      "metadata": {
        "id": "90c7cfb3",
        "outputId": "4758a389-d822-42ba-8280-7edf4f0a8eaf"
      },
      "outputs": [
        {
          "name": "stdout",
          "output_type": "stream",
          "text": [
            "[[ 0.16        0.05454545 -0.06181818]\n",
            " [ 0.04       -0.14545455  0.09818182]\n",
            " [-0.08        0.10909091  0.07636364]]\n"
          ]
        }
      ],
      "source": [
        "###inverse of a matrix\n",
        "A=np.array([[6, 3, 1],\n",
        "              [3, -2, 5],\n",
        "              [2, 6, 7]])\n",
        "print(np.linalg.inv(A))"
      ]
    },
    {
      "cell_type": "code",
      "execution_count": null,
      "id": "6b7d4e18",
      "metadata": {
        "id": "6b7d4e18",
        "outputId": "70cf5647-b193-42e2-dad4-d72fc4eb8f26"
      },
      "outputs": [
        {
          "name": "stdout",
          "output_type": "stream",
          "text": [
            "Matrix is:\n",
            "[[1 2]\n",
            " [3 4]]\n",
            "\n",
            "Det : -2\n"
          ]
        }
      ],
      "source": [
        "### det of a matrix\n",
        "arr= np.array([[1, 2], [3,4]])\n",
        "print(\"Matrix is:\")\n",
        "print(arr)\n",
        "print(\"\\nDet :\",int(np.linalg.det(arr)))"
      ]
    },
    {
      "cell_type": "code",
      "execution_count": null,
      "id": "925c8556",
      "metadata": {
        "id": "925c8556",
        "outputId": "8f3db75d-496b-4ad5-ab57-8d7c7fd94fcc"
      },
      "outputs": [
        {
          "data": {
            "text/plain": [
              "3"
            ]
          },
          "execution_count": 36,
          "metadata": {},
          "output_type": "execute_result"
        }
      ],
      "source": [
        "# rank of a matrix\n",
        "marr=np.array([[1,1,1],[0,1,2],[1,5,3],[2,3,4]]) \n",
        "np.linalg.matrix_rank(marr)"
      ]
    },
    {
      "cell_type": "code",
      "execution_count": null,
      "id": "f215a40c",
      "metadata": {
        "id": "f215a40c",
        "outputId": "d47ef837-606d-4f38-b9c4-272b2eee6b67"
      },
      "outputs": [
        {
          "name": "stdout",
          "output_type": "stream",
          "text": [
            "[ 3.62093727e+01 -2.20937271e+00  2.80575969e-16 -8.29646454e-16] [[-0.15115432 -0.72704996 -0.01128698 -0.250341  ]\n",
            " [-0.34923733 -0.28320876  0.42321091  0.69689908]\n",
            " [-0.54732033  0.16063243 -0.81256087 -0.64277516]\n",
            " [-0.74540333  0.60447363  0.40063694  0.19621708]]\n"
          ]
        }
      ],
      "source": [
        "# eighenvalues and eighenvectors of a matrix\n",
        "ex_matrix=np.array([\n",
        "  [1,2,3,4],\n",
        "  [5,6,7,8],\n",
        "  [9,10,11,12],\n",
        "  [13,14,15,16]\n",
        "])\n",
        "eigenvalues, eigenvectors = np.linalg.eig(ex_matrix)\n",
        "print(eigenvalues, eigenvectors)"
      ]
    },
    {
      "cell_type": "code",
      "execution_count": null,
      "id": "b7df996d",
      "metadata": {
        "id": "b7df996d",
        "outputId": "31b9f910-9e70-44b7-b67e-22fdf5608ff5"
      },
      "outputs": [
        {
          "name": "stdout",
          "output_type": "stream",
          "text": [
            "[[5 3]]\n"
          ]
        }
      ],
      "source": [
        "# diagonal element of a matrix\n",
        "dmat=np.matrix('[5, 1; 14, 3]')\n",
        "diag=dmat.diagonal()\n",
        "print(diag)"
      ]
    },
    {
      "cell_type": "code",
      "execution_count": null,
      "id": "7c060429",
      "metadata": {
        "id": "7c060429",
        "outputId": "7ce4052b-176e-42b9-fb86-65c99d213d71"
      },
      "outputs": [
        {
          "name": "stdout",
          "output_type": "stream",
          "text": [
            "[[ 5 14]\n",
            " [ 1  3]]\n"
          ]
        }
      ],
      "source": [
        "#transpose of a matrix\n",
        "mat=np.matrix('[5, 1; 14, 3]')\n",
        "trans=mat.transpose()\n",
        "print(trans)"
      ]
    },
    {
      "cell_type": "code",
      "execution_count": null,
      "id": "db3947ea",
      "metadata": {
        "id": "db3947ea",
        "outputId": "59054278-6a91-48c5-c635-bdbef56b59eb"
      },
      "outputs": [
        {
          "name": "stdout",
          "output_type": "stream",
          "text": [
            "[[8]]\n"
          ]
        }
      ],
      "source": [
        "# trace of a matrix\n",
        "mat=np.matrix('[5, 1; 14, 3]')\n",
        "tracem=mat.trace()\n",
        "print(tracem)"
      ]
    },
    {
      "cell_type": "code",
      "execution_count": null,
      "id": "847bd35c",
      "metadata": {
        "id": "847bd35c",
        "outputId": "a07d0932-7d9d-4e23-ac13-44ce8554144c"
      },
      "outputs": [
        {
          "name": "stdout",
          "output_type": "stream",
          "text": [
            "[1 2 3 4]\n"
          ]
        }
      ],
      "source": [
        "a=np.array([1,2,3,4])\n",
        "print(a)"
      ]
    },
    {
      "cell_type": "code",
      "execution_count": null,
      "id": "a847e384",
      "metadata": {
        "id": "a847e384",
        "outputId": "21026b4e-e8fa-45ca-d32b-90e49ad3308c"
      },
      "outputs": [
        {
          "data": {
            "text/plain": [
              "array([12, 13, 14, 15])"
            ]
          },
          "execution_count": 42,
          "metadata": {},
          "output_type": "execute_result"
        }
      ],
      "source": [
        "a + 11"
      ]
    },
    {
      "cell_type": "code",
      "execution_count": null,
      "id": "fc2f503e",
      "metadata": {
        "id": "fc2f503e",
        "outputId": "1e5831ec-9aff-43a8-fba2-da149d79b139"
      },
      "outputs": [
        {
          "data": {
            "text/plain": [
              "array([-3, -2, -1,  0])"
            ]
          },
          "execution_count": 43,
          "metadata": {},
          "output_type": "execute_result"
        }
      ],
      "source": [
        "a - 4"
      ]
    },
    {
      "cell_type": "code",
      "execution_count": null,
      "id": "06b94acc",
      "metadata": {
        "id": "06b94acc",
        "outputId": "3d636194-6b02-4727-f071-ccfe8de27fb0"
      },
      "outputs": [
        {
          "data": {
            "text/plain": [
              "array([ 6, 12, 18, 24])"
            ]
          },
          "execution_count": 44,
          "metadata": {},
          "output_type": "execute_result"
        }
      ],
      "source": [
        "a * 6"
      ]
    },
    {
      "cell_type": "code",
      "execution_count": null,
      "id": "588a79d5",
      "metadata": {
        "id": "588a79d5",
        "outputId": "1d086c4a-d2e8-4470-9606-1aa55fa86426"
      },
      "outputs": [
        {
          "data": {
            "text/plain": [
              "array([0.33333333, 0.66666667, 1.        , 1.33333333])"
            ]
          },
          "execution_count": 45,
          "metadata": {},
          "output_type": "execute_result"
        }
      ],
      "source": [
        "a / 3"
      ]
    },
    {
      "cell_type": "code",
      "execution_count": null,
      "id": "03ce1d97",
      "metadata": {
        "id": "03ce1d97",
        "outputId": "6297b82e-ce04-49a1-ee9c-57d8929252de"
      },
      "outputs": [
        {
          "data": {
            "text/plain": [
              "array([2, 4, 6, 8])"
            ]
          },
          "execution_count": 46,
          "metadata": {},
          "output_type": "execute_result"
        }
      ],
      "source": [
        "b=np.array([1,2,3,4])\n",
        "a + b"
      ]
    },
    {
      "cell_type": "code",
      "execution_count": null,
      "id": "56957fbd",
      "metadata": {
        "id": "56957fbd",
        "outputId": "8ea45eb9-5225-4ffd-87a3-24f7a1ab2ffa"
      },
      "outputs": [
        {
          "data": {
            "text/plain": [
              "array([ 1,  8, 27, 64], dtype=int32)"
            ]
          },
          "execution_count": 47,
          "metadata": {},
          "output_type": "execute_result"
        }
      ],
      "source": [
        "a**3"
      ]
    },
    {
      "cell_type": "code",
      "execution_count": null,
      "id": "c8a70973",
      "metadata": {
        "id": "c8a70973",
        "outputId": "0fa3bdc4-c29b-4c07-bef0-9f3268b099af"
      },
      "outputs": [
        {
          "data": {
            "text/plain": [
              "array([ 0.54030231, -0.41614684, -0.9899925 , -0.65364362])"
            ]
          },
          "execution_count": 48,
          "metadata": {},
          "output_type": "execute_result"
        }
      ],
      "source": [
        "# cos value\n",
        "np.cos(a)"
      ]
    },
    {
      "cell_type": "code",
      "execution_count": null,
      "id": "5264b64b",
      "metadata": {
        "id": "5264b64b",
        "outputId": "65656734-3de0-4252-f4d9-5bbc952f9bdf"
      },
      "outputs": [
        {
          "data": {
            "text/plain": [
              "array([ 0.84147098,  0.90929743,  0.14112001, -0.7568025 ])"
            ]
          },
          "execution_count": 49,
          "metadata": {},
          "output_type": "execute_result"
        }
      ],
      "source": [
        "# sin value\n",
        "np.sin(a)"
      ]
    }
  ],
  "metadata": {
    "kernelspec": {
      "display_name": "Python 3",
      "language": "python",
      "name": "python3"
    },
    "language_info": {
      "codemirror_mode": {
        "name": "ipython",
        "version": 3
      },
      "file_extension": ".py",
      "mimetype": "text/x-python",
      "name": "python",
      "nbconvert_exporter": "python",
      "pygments_lexer": "ipython3",
      "version": "3.8.8"
    },
    "colab": {
      "name": "AI JUPITER TASK 1 1.ipynb",
      "provenance": [],
      "include_colab_link": true
    }
  },
  "nbformat": 4,
  "nbformat_minor": 5
}